{
  "nbformat": 4,
  "nbformat_minor": 0,
  "metadata": {
    "kernelspec": {
      "display_name": "Python 3",
      "language": "python",
      "name": "python3"
    },
    "language_info": {
      "codemirror_mode": {
        "name": "ipython",
        "version": 3
      },
      "file_extension": ".py",
      "mimetype": "text/x-python",
      "name": "python",
      "nbconvert_exporter": "python",
      "pygments_lexer": "ipython3",
      "version": "3.7.4"
    },
    "colab": {
      "name": "TextMining_Project.ipynb",
      "provenance": [],
      "collapsed_sections": []
    }
  },
  "cells": [
    {
      "cell_type": "code",
      "metadata": {
        "id": "JKV8WQ4dn5lt"
      },
      "source": [
        "import pandas as pd\n",
        "import numpy as np\n",
        "import warnings\n",
        "warnings.filterwarnings('ignore')"
      ],
      "execution_count": 115,
      "outputs": []
    },
    {
      "cell_type": "code",
      "metadata": {
        "id": "4ygVxjw3n5lx",
        "colab": {
          "base_uri": "https://localhost:8080/",
          "height": 298
        },
        "outputId": "6ee17919-1105-4852-a3c2-fe19f02c0240"
      },
      "source": [
        "D1 = pd.read_csv(\"uci-news-aggregator.csv\")\n",
        "D1.head(2)"
      ],
      "execution_count": 116,
      "outputs": [
        {
          "output_type": "execute_result",
          "data": {
            "text/html": [
              "<div>\n",
              "<style scoped>\n",
              "    .dataframe tbody tr th:only-of-type {\n",
              "        vertical-align: middle;\n",
              "    }\n",
              "\n",
              "    .dataframe tbody tr th {\n",
              "        vertical-align: top;\n",
              "    }\n",
              "\n",
              "    .dataframe thead th {\n",
              "        text-align: right;\n",
              "    }\n",
              "</style>\n",
              "<table border=\"1\" class=\"dataframe\">\n",
              "  <thead>\n",
              "    <tr style=\"text-align: right;\">\n",
              "      <th></th>\n",
              "      <th>ID</th>\n",
              "      <th>TITLE</th>\n",
              "      <th>URL</th>\n",
              "      <th>PUBLISHER</th>\n",
              "      <th>CATEGORY</th>\n",
              "      <th>STORY</th>\n",
              "      <th>HOSTNAME</th>\n",
              "      <th>TIMESTAMP</th>\n",
              "    </tr>\n",
              "  </thead>\n",
              "  <tbody>\n",
              "    <tr>\n",
              "      <th>0</th>\n",
              "      <td>1</td>\n",
              "      <td>Fed official says weak data caused by weather,...</td>\n",
              "      <td>http://www.latimes.com/business/money/la-fi-mo...</td>\n",
              "      <td>Los Angeles Times</td>\n",
              "      <td>b</td>\n",
              "      <td>ddUyU0VZz0BRneMioxUPQVP6sIxvM</td>\n",
              "      <td>www.latimes.com</td>\n",
              "      <td>1394470370698</td>\n",
              "    </tr>\n",
              "    <tr>\n",
              "      <th>1</th>\n",
              "      <td>2</td>\n",
              "      <td>Fed's Charles Plosser sees high bar for change...</td>\n",
              "      <td>http://www.livemint.com/Politics/H2EvwJSK2VE6O...</td>\n",
              "      <td>Livemint</td>\n",
              "      <td>b</td>\n",
              "      <td>ddUyU0VZz0BRneMioxUPQVP6sIxvM</td>\n",
              "      <td>www.livemint.com</td>\n",
              "      <td>1394470371207</td>\n",
              "    </tr>\n",
              "  </tbody>\n",
              "</table>\n",
              "</div>"
            ],
            "text/plain": [
              "   ID  ...      TIMESTAMP\n",
              "0   1  ...  1394470370698\n",
              "1   2  ...  1394470371207\n",
              "\n",
              "[2 rows x 8 columns]"
            ]
          },
          "metadata": {},
          "execution_count": 116
        }
      ]
    },
    {
      "cell_type": "code",
      "metadata": {
        "colab": {
          "base_uri": "https://localhost:8080/"
        },
        "id": "1k8nlh86zKmJ",
        "outputId": "69ed971e-7194-4983-e75d-fcc03a5a0edd"
      },
      "source": [
        "D1.info()"
      ],
      "execution_count": 117,
      "outputs": [
        {
          "output_type": "stream",
          "text": [
            "<class 'pandas.core.frame.DataFrame'>\n",
            "RangeIndex: 422419 entries, 0 to 422418\n",
            "Data columns (total 8 columns):\n",
            " #   Column     Non-Null Count   Dtype \n",
            "---  ------     --------------   ----- \n",
            " 0   ID         422419 non-null  int64 \n",
            " 1   TITLE      422419 non-null  object\n",
            " 2   URL        422419 non-null  object\n",
            " 3   PUBLISHER  422417 non-null  object\n",
            " 4   CATEGORY   422419 non-null  object\n",
            " 5   STORY      422419 non-null  object\n",
            " 6   HOSTNAME   422419 non-null  object\n",
            " 7   TIMESTAMP  422419 non-null  int64 \n",
            "dtypes: int64(2), object(6)\n",
            "memory usage: 25.8+ MB\n"
          ],
          "name": "stdout"
        }
      ]
    },
    {
      "cell_type": "code",
      "metadata": {
        "id": "2GI2qVgxn5ly",
        "colab": {
          "base_uri": "https://localhost:8080/"
        },
        "outputId": "806eab8a-0d33-4254-98d6-51b949d7eb7e"
      },
      "source": [
        "Data = D1[[\"CATEGORY\", \"TITLE\"]]\n",
        "\n",
        "#Removing duplicates\n",
        "Data.drop_duplicates(inplace = True)\n",
        "\n",
        "#check for null values\n",
        "Data.isnull().sum()\n",
        "\n",
        "#drop null values\n",
        "#Data = Data.dropna()"
      ],
      "execution_count": 118,
      "outputs": [
        {
          "output_type": "execute_result",
          "data": {
            "text/plain": [
              "CATEGORY    0\n",
              "TITLE       0\n",
              "dtype: int64"
            ]
          },
          "metadata": {},
          "execution_count": 118
        }
      ]
    },
    {
      "cell_type": "code",
      "metadata": {
        "id": "2pSQ10j_CNFr",
        "colab": {
          "base_uri": "https://localhost:8080/",
          "height": 378
        },
        "outputId": "119ff4f1-3f38-4c93-ee00-a1a9b914a970"
      },
      "source": [
        "Data = Data['CATEGORY'].value_counts().head(10)\n",
        "#exp = [0.2,0,0,0]\n",
        "labels = ['Entertainment', 'Business', 'Science & Technology', 'Health']\n",
        "col = ['lime', 'deepskyblue','tomato','violet']\n",
        "\n",
        "fig1, ax1 = plt.subplots(figsize=(5,5))\n",
        "#ax1.pie(labels = labels, explode=exp, autopct = '%2.1f%%', colors = col, startangle=90)\n",
        "\n",
        "ax1.pie(Data, labels=labels, autopct='%2.1f%%', colors = col)\n",
        "ax1.axis('equal')  # Equal aspect ratio ensures that pie is drawn as a circle."
      ],
      "execution_count": null,
      "outputs": [
        {
          "output_type": "execute_result",
          "data": {
            "text/plain": [
              "(-1.101683995001352,\n",
              " 1.1000801902381596,\n",
              " -1.109239778088433,\n",
              " 1.1173873672681571)"
            ]
          },
          "metadata": {},
          "execution_count": 25
        },
        {
          "output_type": "display_data",
          "data": {
            "image/png": "[encoded data removed]",
            "text/plain": [
              "<Figure size 360x360 with 1 Axes>"
            ]
          },
          "metadata": {
            "image/png": {
              "width": 362,
              "height": 294
            }
          }
        }
      ]
    },
    {
      "cell_type": "code",
      "metadata": {
        "id": "9-MTiep6n5l0"
      },
      "source": [
        "#Text Cleaning\n",
        "import re\n",
        "import string\n",
        "\n",
        "def clean_text(TITLE):\n",
        "    \n",
        "    #Remove punctuations\n",
        "    for ch in string.punctuation:\n",
        "        TITLE = TITLE.replace(ch, \" \")\n",
        "    \n",
        "    #Remove Unicode characters\n",
        "    TITLE = re.sub(r'[^\\x00-\\x7F]+', '', TITLE)\n",
        "\n",
        "    #Convert to lowercase to maintain consistency\n",
        "    TITLE = TITLE.lower()\n",
        "    \n",
        "    #Remove white spaces\n",
        "    TITLE = TITLE.strip()\n",
        "    \n",
        "    return TITLE\n",
        "\n",
        "Data['TITLE'] = Data.TITLE.apply(lambda x: clean_text(x))"
      ],
      "execution_count": 119,
      "outputs": []
    },
    {
      "cell_type": "code",
      "metadata": {
        "colab": {
          "base_uri": "https://localhost:8080/"
        },
        "id": "28OhO93gMcgq",
        "outputId": "e5e440f3-7145-4a78-d180-88ba5e26390e"
      },
      "source": [
        "import nltk\n",
        "nltk.download('punkt')"
      ],
      "execution_count": 120,
      "outputs": [
        {
          "output_type": "stream",
          "text": [
            "[nltk_data] Downloading package punkt to /root/nltk_data...\n",
            "[nltk_data]   Package punkt is already up-to-date!\n"
          ],
          "name": "stdout"
        },
        {
          "output_type": "execute_result",
          "data": {
            "text/plain": [
              "True"
            ]
          },
          "metadata": {},
          "execution_count": 120
        }
      ]
    },
    {
      "cell_type": "code",
      "metadata": {
        "id": "RsrgZEaYn5l0"
      },
      "source": [
        "#Tokenization\n",
        "import nltk\n",
        "from nltk.tokenize import word_tokenize\n",
        "\n",
        "Data['Tokenized']  = tuple(map(lambda x : nltk.word_tokenize(x),Data['TITLE']))"
      ],
      "execution_count": 121,
      "outputs": []
    },
    {
      "cell_type": "code",
      "metadata": {
        "colab": {
          "base_uri": "https://localhost:8080/"
        },
        "id": "sQRuzPedMwQw",
        "outputId": "bab6a1f4-554e-4011-a6c7-3c0515235e76"
      },
      "source": [
        "nltk.download('stopwords')"
      ],
      "execution_count": 122,
      "outputs": [
        {
          "output_type": "stream",
          "text": [
            "[nltk_data] Downloading package stopwords to /root/nltk_data...\n",
            "[nltk_data]   Package stopwords is already up-to-date!\n"
          ],
          "name": "stdout"
        },
        {
          "output_type": "execute_result",
          "data": {
            "text/plain": [
              "True"
            ]
          },
          "metadata": {},
          "execution_count": 122
        }
      ]
    },
    {
      "cell_type": "code",
      "metadata": {
        "id": "6Om2qGPXn5l0"
      },
      "source": [
        "#Stop word removal\n",
        "from nltk.corpus import stopwords \n",
        "stop = set(stopwords.words('english')) \n",
        "\n",
        "Data['Stopwords_removed'] = Data['Tokenized'].apply(lambda x: [word for word  in x if word not in stop ] )"
      ],
      "execution_count": 123,
      "outputs": []
    },
    {
      "cell_type": "code",
      "metadata": {
        "colab": {
          "base_uri": "https://localhost:8080/"
        },
        "id": "7jQvWILtM4t5",
        "outputId": "091b1f55-9734-45ec-ae41-6733b2accc1f"
      },
      "source": [
        "nltk.download('wordnet')"
      ],
      "execution_count": 124,
      "outputs": [
        {
          "output_type": "stream",
          "text": [
            "[nltk_data] Downloading package wordnet to /root/nltk_data...\n",
            "[nltk_data]   Package wordnet is already up-to-date!\n"
          ],
          "name": "stdout"
        },
        {
          "output_type": "execute_result",
          "data": {
            "text/plain": [
              "True"
            ]
          },
          "metadata": {},
          "execution_count": 124
        }
      ]
    },
    {
      "cell_type": "code",
      "metadata": {
        "id": "j3lamO1Un5l1"
      },
      "source": [
        "#Lemmatization\n",
        "from nltk.stem import WordNetLemmatizer\n",
        "\n",
        "# Using Lemmatizer.\n",
        "Lemmatizer = WordNetLemmatizer()\n",
        "\n",
        "Data['Lemmatized'] = Data['Stopwords_removed'].apply(lambda x: [Lemmatizer.lemmatize(word) for word in x] )"
      ],
      "execution_count": 125,
      "outputs": []
    },
    {
      "cell_type": "code",
      "metadata": {
        "id": "Zb4xs4oin5l1",
        "colab": {
          "base_uri": "https://localhost:8080/",
          "height": 287
        },
        "outputId": "80c16d34-bf45-4896-d2b2-bceeba73ab5c"
      },
      "source": [
        "Data.head(5)"
      ],
      "execution_count": 126,
      "outputs": [
        {
          "output_type": "execute_result",
          "data": {
            "text/html": [
              "<div>\n",
              "<style scoped>\n",
              "    .dataframe tbody tr th:only-of-type {\n",
              "        vertical-align: middle;\n",
              "    }\n",
              "\n",
              "    .dataframe tbody tr th {\n",
              "        vertical-align: top;\n",
              "    }\n",
              "\n",
              "    .dataframe thead th {\n",
              "        text-align: right;\n",
              "    }\n",
              "</style>\n",
              "<table border=\"1\" class=\"dataframe\">\n",
              "  <thead>\n",
              "    <tr style=\"text-align: right;\">\n",
              "      <th></th>\n",
              "      <th>CATEGORY</th>\n",
              "      <th>TITLE</th>\n",
              "      <th>Tokenized</th>\n",
              "      <th>Stopwords_removed</th>\n",
              "      <th>Lemmatized</th>\n",
              "    </tr>\n",
              "  </thead>\n",
              "  <tbody>\n",
              "    <tr>\n",
              "      <th>0</th>\n",
              "      <td>b</td>\n",
              "      <td>fed official says weak data caused by weather ...</td>\n",
              "      <td>[fed, official, says, weak, data, caused, by, ...</td>\n",
              "      <td>[fed, official, says, weak, data, caused, weat...</td>\n",
              "      <td>[fed, official, say, weak, data, caused, weath...</td>\n",
              "    </tr>\n",
              "    <tr>\n",
              "      <th>1</th>\n",
              "      <td>b</td>\n",
              "      <td>fed s charles plosser sees high bar for change...</td>\n",
              "      <td>[fed, s, charles, plosser, sees, high, bar, fo...</td>\n",
              "      <td>[fed, charles, plosser, sees, high, bar, chang...</td>\n",
              "      <td>[fed, charles, plosser, see, high, bar, change...</td>\n",
              "    </tr>\n",
              "    <tr>\n",
              "      <th>2</th>\n",
              "      <td>b</td>\n",
              "      <td>us open  stocks fall after fed official hints ...</td>\n",
              "      <td>[us, open, stocks, fall, after, fed, official,...</td>\n",
              "      <td>[us, open, stocks, fall, fed, official, hints,...</td>\n",
              "      <td>[u, open, stock, fall, fed, official, hint, ac...</td>\n",
              "    </tr>\n",
              "    <tr>\n",
              "      <th>3</th>\n",
              "      <td>b</td>\n",
              "      <td>fed risks falling  behind the curve   charles ...</td>\n",
              "      <td>[fed, risks, falling, behind, the, curve, char...</td>\n",
              "      <td>[fed, risks, falling, behind, curve, charles, ...</td>\n",
              "      <td>[fed, risk, falling, behind, curve, charles, p...</td>\n",
              "    </tr>\n",
              "    <tr>\n",
              "      <th>4</th>\n",
              "      <td>b</td>\n",
              "      <td>fed s plosser  nasty weather has curbed job gr...</td>\n",
              "      <td>[fed, s, plosser, nasty, weather, has, curbed,...</td>\n",
              "      <td>[fed, plosser, nasty, weather, curbed, job, gr...</td>\n",
              "      <td>[fed, plosser, nasty, weather, curbed, job, gr...</td>\n",
              "    </tr>\n",
              "  </tbody>\n",
              "</table>\n",
              "</div>"
            ],
            "text/plain": [
              "  CATEGORY  ...                                         Lemmatized\n",
              "0        b  ...  [fed, official, say, weak, data, caused, weath...\n",
              "1        b  ...  [fed, charles, plosser, see, high, bar, change...\n",
              "2        b  ...  [u, open, stock, fall, fed, official, hint, ac...\n",
              "3        b  ...  [fed, risk, falling, behind, curve, charles, p...\n",
              "4        b  ...  [fed, plosser, nasty, weather, curbed, job, gr...\n",
              "\n",
              "[5 rows x 5 columns]"
            ]
          },
          "metadata": {},
          "execution_count": 126
        }
      ]
    },
    {
      "cell_type": "code",
      "metadata": {
        "id": "7Z_w5WEan5l2"
      },
      "source": [
        "Data['PROCESSED_TITLE']  = Data['Lemmatized'].apply(lambda x : ' '.join(x))"
      ],
      "execution_count": 127,
      "outputs": []
    },
    {
      "cell_type": "code",
      "metadata": {
        "id": "EpUF-5E8n5l2",
        "colab": {
          "base_uri": "https://localhost:8080/",
          "height": 110
        },
        "outputId": "9a3dd879-e93b-4905-da9f-9ecf071e48db"
      },
      "source": [
        "Data = Data[[\"CATEGORY\", \"TITLE\", \"PROCESSED_TITLE\"]]\n",
        "Data.head(2)"
      ],
      "execution_count": 128,
      "outputs": [
        {
          "output_type": "execute_result",
          "data": {
            "text/html": [
              "<div>\n",
              "<style scoped>\n",
              "    .dataframe tbody tr th:only-of-type {\n",
              "        vertical-align: middle;\n",
              "    }\n",
              "\n",
              "    .dataframe tbody tr th {\n",
              "        vertical-align: top;\n",
              "    }\n",
              "\n",
              "    .dataframe thead th {\n",
              "        text-align: right;\n",
              "    }\n",
              "</style>\n",
              "<table border=\"1\" class=\"dataframe\">\n",
              "  <thead>\n",
              "    <tr style=\"text-align: right;\">\n",
              "      <th></th>\n",
              "      <th>CATEGORY</th>\n",
              "      <th>TITLE</th>\n",
              "      <th>PROCESSED_TITLE</th>\n",
              "    </tr>\n",
              "  </thead>\n",
              "  <tbody>\n",
              "    <tr>\n",
              "      <th>0</th>\n",
              "      <td>b</td>\n",
              "      <td>fed official says weak data caused by weather ...</td>\n",
              "      <td>fed official say weak data caused weather slow...</td>\n",
              "    </tr>\n",
              "    <tr>\n",
              "      <th>1</th>\n",
              "      <td>b</td>\n",
              "      <td>fed s charles plosser sees high bar for change...</td>\n",
              "      <td>fed charles plosser see high bar change pace t...</td>\n",
              "    </tr>\n",
              "  </tbody>\n",
              "</table>\n",
              "</div>"
            ],
            "text/plain": [
              "  CATEGORY  ...                                    PROCESSED_TITLE\n",
              "0        b  ...  fed official say weak data caused weather slow...\n",
              "1        b  ...  fed charles plosser see high bar change pace t...\n",
              "\n",
              "[2 rows x 3 columns]"
            ]
          },
          "metadata": {},
          "execution_count": 128
        }
      ]
    },
    {
      "cell_type": "code",
      "metadata": {
        "id": "2ckHjrhOn5l3"
      },
      "source": [
        "from sklearn.preprocessing import LabelEncoder\n",
        "\n",
        "# pull the data into vectors\n",
        "#tfidf2 = TfidfVectorizer()\n",
        "#x = tfidf2.fit_transform(Data['PROCESSED_TITLE'])\n",
        "\n",
        "x = Data['PROCESSED_TITLE']\n",
        "\n",
        "encoder = LabelEncoder()\n",
        "y = encoder.fit_transform(Data['CATEGORY'])"
      ],
      "execution_count": 129,
      "outputs": []
    },
    {
      "cell_type": "code",
      "metadata": {
        "id": "E_y5Kf1kn5l4",
        "colab": {
          "base_uri": "https://localhost:8080/"
        },
        "outputId": "ef165050-4105-4078-a8b9-c3eb2253b5f8"
      },
      "source": [
        "# split into train and test sets\n",
        "from sklearn.model_selection import train_test_split\n",
        "x_train, x_test, y_train, y_test = train_test_split(x, y, test_size=0.2, random_state=1)\n",
        "\n",
        "from collections import Counter\n",
        "print(Counter(y_train))\n",
        "print(Counter(y_test))"
      ],
      "execution_count": 130,
      "outputs": [
        {
          "output_type": "stream",
          "text": [
            "Counter({1: 117546, 0: 89518, 3: 83839, 2: 34942})\n",
            "Counter({1: 29406, 0: 22385, 3: 20894, 2: 8777})\n"
          ],
          "name": "stdout"
        }
      ]
    },
    {
      "cell_type": "code",
      "metadata": {
        "id": "7Evybibun5l4",
        "colab": {
          "base_uri": "https://localhost:8080/"
        },
        "outputId": "239645de-b1f2-4e4b-d2d0-6247e444862f"
      },
      "source": [
        "print(\"x_train dataset: \", x_train.shape[0])\n",
        "print(\"y_train dataset: \", y_train.shape[0])\n",
        "\n",
        "print(\"x_test dataset: \", x_test.shape[0])\n",
        "print(\"y_test dataset: \", y_test.shape[0])"
      ],
      "execution_count": 131,
      "outputs": [
        {
          "output_type": "stream",
          "text": [
            "x_train dataset:  325845\n",
            "y_train dataset:  325845\n",
            "x_test dataset:  81462\n",
            "y_test dataset:  81462\n"
          ],
          "name": "stdout"
        }
      ]
    },
    {
      "cell_type": "code",
      "metadata": {
        "id": "lK1aEZCKPvyk"
      },
      "source": [
        "from sklearn.pipeline import Pipeline\n",
        "from sklearn.metrics import confusion_matrix\n",
        "from sklearn.metrics import classification_report\n",
        "from sklearn.model_selection import cross_val_score\n",
        "from sklearn import metrics\n",
        "from sklearn.metrics import accuracy_score\n",
        "from sklearn.metrics import plot_confusion_matrix"
      ],
      "execution_count": 132,
      "outputs": []
    },
    {
      "cell_type": "code",
      "metadata": {
        "scrolled": true,
        "id": "6VpEFzZrn5l4",
        "colab": {
          "base_uri": "https://localhost:8080/"
        },
        "outputId": "cb32258c-ecc6-49c7-bc2d-4151355c1249"
      },
      "source": [
        "%%time\n",
        "from sklearn.feature_extraction.text import CountVectorizer, TfidfTransformer\n",
        "from sklearn.naive_bayes import MultinomialNB\n",
        "\n",
        "nb_clf = Pipeline([('vect', CountVectorizer(ngram_range=(1,3),)),\n",
        "                   ('tfidf', TfidfTransformer()),\n",
        "                   ('clf', MultinomialNB(alpha = 0.01))])\n",
        "\n",
        "#Train the model\n",
        "nb_clf.fit(x_train, y_train)\n",
        "\n",
        "#Predict the test cases using test data\n",
        "pred_test = nb_clf.predict(x_test)\n",
        "print (classification_report(y_test, pred_test))\n",
        "\n",
        "NB_test = accuracy_score(y_test, pred_test)\n",
        "\n",
        "# Model Accuracy, how often is the classifier correct?\n",
        "print(\"Accuracy Score on Test Data:  %.2f\" %(NB_test))"
      ],
      "execution_count": 144,
      "outputs": [
        {
          "output_type": "stream",
          "text": [
            "              precision    recall  f1-score   support\n",
            "\n",
            "           0       0.94      0.93      0.93     22385\n",
            "           1       0.98      0.98      0.98     29406\n",
            "           2       0.96      0.94      0.95      8777\n",
            "           3       0.93      0.94      0.94     20894\n",
            "\n",
            "    accuracy                           0.95     81462\n",
            "   macro avg       0.95      0.95      0.95     81462\n",
            "weighted avg       0.95      0.95      0.95     81462\n",
            "\n",
            "Accuracy Score on Test Data:  0.95\n",
            "CPU times: user 26.5 s, sys: 590 ms, total: 27.1 s\n",
            "Wall time: 27.1 s\n"
          ],
          "name": "stdout"
        }
      ]
    },
    {
      "cell_type": "code",
      "metadata": {
        "id": "iNxcy8QMn5l5",
        "colab": {
          "base_uri": "https://localhost:8080/"
        },
        "outputId": "dbce62f9-80c7-437e-b188-efe6f6222d45"
      },
      "source": [
        "%%time\n",
        "from sklearn.linear_model import LogisticRegression\n",
        "from sklearn.multiclass import OneVsRestClassifier\n",
        "\n",
        "LR_clf = Pipeline([('vect', CountVectorizer(ngram_range=(1,3),)),\n",
        "                   ('tfidf', TfidfTransformer()),\n",
        "                   ('LR', LogisticRegression(multi_class='ovr', random_state=42, solver=\"lbfgs\")) ])\n",
        "\n",
        "#Train the model\n",
        "LR_clf.fit(x_train, y_train)\n",
        "\n",
        "#Predict the test cases using test data\n",
        "pred_test = LR_clf.predict(x_test)\n",
        "print (classification_report(y_test, pred_test))\n",
        "\n",
        "LR_test = accuracy_score(y_test, pred_test)\n",
        "\n",
        "# Model Accuracy, how often is the classifier correct?\n",
        "print(\"Accuracy Score on Test Data:  %.2f\" % (LR_test))"
      ],
      "execution_count": 141,
      "outputs": [
        {
          "output_type": "stream",
          "text": [
            "              precision    recall  f1-score   support\n",
            "\n",
            "           0       0.93      0.92      0.92     22385\n",
            "           1       0.97      0.98      0.97     29406\n",
            "           2       0.95      0.91      0.93      8777\n",
            "           3       0.93      0.93      0.93     20894\n",
            "\n",
            "    accuracy                           0.94     81462\n",
            "   macro avg       0.94      0.94      0.94     81462\n",
            "weighted avg       0.94      0.94      0.94     81462\n",
            "\n",
            "Accuracy Score on Test Data:  0.94\n",
            "CPU times: user 4min 23s, sys: 2min 7s, total: 6min 31s\n",
            "Wall time: 3min 47s\n"
          ],
          "name": "stdout"
        }
      ]
    },
    {
      "cell_type": "code",
      "metadata": {
        "id": "zKKdwhYln5l5",
        "colab": {
          "base_uri": "https://localhost:8080/"
        },
        "outputId": "3c4f0dc9-3a29-465f-b3a0-511b1c7e5be3"
      },
      "source": [
        "%%time\n",
        "\n",
        "from sklearn.svm import LinearSVC\n",
        "\n",
        "LinSVC = Pipeline([('vect', CountVectorizer(ngram_range=(1,3))),\n",
        "                   ('tfidf', TfidfTransformer()),\n",
        "                    ('LinSVC', LinearSVC(random_state=42, tol=1e-5))])\n",
        "\n",
        "#Train the model\n",
        "LinSVC.fit(x_train, y_train)\n",
        "\n",
        "#Predict the test cases using test data\n",
        "pred_test = LinSVC.predict(x_test)\n",
        "print (classification_report(y_test, pred_test))\n",
        "\n",
        "LinSVC_test = accuracy_score(y_test, pred_test)\n",
        "\n",
        "# Model Accuracy, how often is the classifier correct?\n",
        "print(\"Accuracy Score on Test Data:  %.2f\" % (LinSVC_test))"
      ],
      "execution_count": 137,
      "outputs": [
        {
          "output_type": "stream",
          "text": [
            "              precision    recall  f1-score   support\n",
            "\n",
            "           0       0.94      0.94      0.94     22385\n",
            "           1       0.98      0.98      0.98     29406\n",
            "           2       0.96      0.95      0.96      8777\n",
            "           3       0.94      0.95      0.95     20894\n",
            "\n",
            "    accuracy                           0.96     81462\n",
            "   macro avg       0.96      0.96      0.96     81462\n",
            "weighted avg       0.96      0.96      0.96     81462\n",
            "\n",
            "Accuracy Score on Test Data:  0.96\n",
            "CPU times: user 49.7 s, sys: 879 ms, total: 50.6 s\n",
            "Wall time: 50.5 s\n"
          ],
          "name": "stdout"
        }
      ]
    },
    {
      "cell_type": "code",
      "metadata": {
        "id": "s3XqN_Ben5l6",
        "colab": {
          "base_uri": "https://localhost:8080/"
        },
        "outputId": "b3085232-7aa1-449a-f60f-f3be261b2507"
      },
      "source": [
        "from prettytable import PrettyTable\n",
        "\n",
        "x = PrettyTable()\n",
        "\n",
        "x.field_names = [\"ALgorithm\", \"Test Accuracy\"]\n",
        "\n",
        "x.add_row([\"Naive Bayes\", \" %.2f\" % (NB_test)])\n",
        "x.add_row([\"Logistic Regression\", \" %.2f\" % (LR_test)])\n",
        "x.add_row([\"Linear SVC\", \" %.2f\" % (LinSVC_test)])\n",
        "\n",
        "print(x)"
      ],
      "execution_count": 142,
      "outputs": [
        {
          "output_type": "stream",
          "text": [
            "+---------------------+---------------+\n",
            "|      ALgorithm      | Test Accuracy |\n",
            "+---------------------+---------------+\n",
            "|     Naive Bayes     |      0.95     |\n",
            "| Logistic Regression |      0.94     |\n",
            "|      Linear SVC     |      0.96     |\n",
            "+---------------------+---------------+\n"
          ],
          "name": "stdout"
        }
      ]
    }
  ]
}